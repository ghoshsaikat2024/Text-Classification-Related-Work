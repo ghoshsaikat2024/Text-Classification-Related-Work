{
 "cells": [
  {
   "cell_type": "code",
   "execution_count": 17,
   "metadata": {},
   "outputs": [
    {
     "name": "stderr",
     "output_type": "stream",
     "text": [
      "[nltk_data] Downloading package wordnet to /home/saikat/nltk_data...\n",
      "[nltk_data]   Package wordnet is already up-to-date!\n",
      "[nltk_data] Downloading package punkt to /home/saikat/nltk_data...\n",
      "[nltk_data]   Package punkt is already up-to-date!\n"
     ]
    },
    {
     "data": {
      "text/plain": [
       "True"
      ]
     },
     "execution_count": 17,
     "metadata": {},
     "output_type": "execute_result"
    }
   ],
   "source": [
    "import nltk\n",
    "import numpy as np\n",
    "from nltk.corpus import stopwords\n",
    "from nltk.tokenize import word_tokenize\n",
    "from nltk import WordNetLemmatizer\n",
    "import pandas as pd\n",
    "from sklearn.metrics import accuracy_score\n",
    "from sklearn.metrics.pairwise import cosine_similarity\n",
    "from sklearn.feature_extraction.text import CountVectorizer, TfidfVectorizer\n",
    "nltk.download('wordnet') #For using WordNetLemmatizer\n",
    "nltk.download('punkt')"
   ]
  },
  {
   "cell_type": "code",
   "execution_count": 6,
   "metadata": {},
   "outputs": [
    {
     "name": "stdout",
     "output_type": "stream",
     "text": [
      "<class 'pandas.core.frame.DataFrame'>\n",
      "RangeIndex: 404351 entries, 0 to 404350\n",
      "Data columns (total 6 columns):\n",
      " #   Column        Non-Null Count   Dtype \n",
      "---  ------        --------------   ----- \n",
      " 0   id            404351 non-null  int64 \n",
      " 1   qid1          404351 non-null  int64 \n",
      " 2   qid2          404351 non-null  int64 \n",
      " 3   question1     404350 non-null  object\n",
      " 4   question2     404349 non-null  object\n",
      " 5   is_duplicate  404351 non-null  int64 \n",
      "dtypes: int64(4), object(2)\n",
      "memory usage: 18.5+ MB\n",
      "None\n",
      "   id  qid1  qid2                                          question1  \\\n",
      "0   0     1     2  What is the step by step guide to invest in sh...   \n",
      "1   1     3     4  What is the story of Kohinoor (Koh-i-Noor) Dia...   \n",
      "2   2     5     6  How can I increase the speed of my internet co...   \n",
      "3   3     7     8  Why am I mentally very lonely? How can I solve...   \n",
      "4   4     9    10  Which one dissolve in water quikly sugar, salt...   \n",
      "\n",
      "                                           question2  is_duplicate  \n",
      "0  What is the step by step guide to invest in sh...             0  \n",
      "1  What would happen if the Indian government sto...             0  \n",
      "2  How can Internet speed be increased by hacking...             0  \n",
      "3  Find the remainder when [math]23^{24}[/math] i...             0  \n",
      "4            Which fish would survive in salt water?             0  \n"
     ]
    }
   ],
   "source": [
    "data=pd.read_csv(r'questions.csv')\n",
    "print(data.info())\n",
    "print(data.head())"
   ]
  },
  {
   "cell_type": "code",
   "execution_count": 7,
   "metadata": {},
   "outputs": [
    {
     "data": {
      "text/plain": [
       "id     qid1   qid2   question1  question2  is_duplicate\n",
       "False  False  False  False      False      False           404348\n",
       "                                True       False                2\n",
       "                     True       False      False                1\n",
       "Name: count, dtype: int64"
      ]
     },
     "execution_count": 7,
     "metadata": {},
     "output_type": "execute_result"
    }
   ],
   "source": [
    "data.isnull().value_counts()"
   ]
  },
  {
   "cell_type": "code",
   "execution_count": 15,
   "metadata": {},
   "outputs": [
    {
     "name": "stdout",
     "output_type": "stream",
     "text": [
      "Duplicate question:id      qid1    qid2    question1                                                                                                                          question2                                                                                                                                  is_duplicate\n",
      "0       1       2       what is the step by step guide to invest in share market in india                                                                  what is the step by step guide to invest in share market                                                                                   0               1\n",
      "270616  532248  532249  do indian family in the earn more than jewish family                                                                               are nris and second generation immigrant family more casteist than regular indian                                                          0               1\n",
      "270601  482374  532219  what is that business that is working well in other country but ha not yet started in india                                        what are some unique small scale business in foreign country which can be started in india                                                 0               1\n",
      "270602  532220  532221  is thank you for letting me know correct why or why not                                                                            which is correct me too or me to and why                                                                                                   0               1\n",
      "270603  532222  532223  what are the different type of sailboat used for                                                                                   how are the different type of sailboat operated                                                                                            0               1\n",
      "                                                                                                                                                                                                                                                                                                                     ..\n",
      "135468  268245  268246  which public sector bank share should buy for five year investment purpose                                                         what are some important thing about you people will never tell                                                                             0               1\n",
      "135469  268247  268248  taurus ascendant my venus is in house along with saturn mercury and moon mar being in house with sun is that called sannyasa yoga  taurus ascendant mercury is in the tenth house with jupiter mar sun and ketu saturn is in the eleventh house is that called sannyasa yoga  0               1\n",
      "135470  268249  268250  what is internal conflict of story what are some example                                                                           what are some example of internal conflict                                                                                                 0               1\n",
      "135475  268258  268259  neuroscience how do antipsychotic affect an animal ability to learn through operant conditioning                                   neuroscience how do opioids affect an animal ability to learn through operant conditioning                                                 0               1\n",
      "404350  789800  789801  what is like to have sex with cousin                                                                                               what is it like to have sex with your cousin                                                                                               0               1\n",
      "Name: count, Length: 255042, dtype: int64\n",
      "Dissimilar Questions:id      qid1    qid2    question1                                                                                                                                   question2                                                                                                                                    is_duplicate\n",
      "5       11      12      astrology am capricorn sun cap moon and cap rising what doe that say about me                                                               triple capricorn sun moon and ascendant in capricorn what doe this say about me                                                              1               1\n",
      "267724  526641  526642  what are some science magic trick that most people do know about                                                                            what are some mind blowing magic science trick that most people do know about                                                                1               1\n",
      "267777  526747  526748  why did the government of india print banknote with qr code on it a measure to avoid counterfeit currency and to fight against black money  why did the government of india print banknote with bar code on it a measure to avoid counterfeit currency and to fight against black money  1               1\n",
      "267782  526757  526758  how can create an instagram account on pc                                                                                                   how can create an instagram account on the laptop                                                                                            1               1\n",
      "267785  526763  526764  why do people believe the earth is flat when clearly earth is round from space                                                              know some people that still believe the earth is flat why                                                                                    1               1\n",
      "                                                                                                                                                                                                                                                                                                                                ..\n",
      "133667  264707  264708  what is the best time to eat dinner                                                                                                         when is the best time to have dinner                                                                                                         1               1\n",
      "133671  264715  264716  which is best college for biotechnology in india                                                                                            what are the best college for biotechnology in india                                                                                         1               1\n",
      "133672  264717  264718  how can help syrian refugee                                                                                                                 how can everyday people most effectively help the syrian refugee                                                                             1               1\n",
      "133680  264732  264733  who is the most irritating bollywood star                                                                                                   who is the most annoying and irritating bollywood actor and actress                                                                          1               1\n",
      "404347  789794  789795  do you believe there is life after death                                                                                                    is it true that there is life after death                                                                                                    1               1\n",
      "Name: count, Length: 149306, dtype: int64\n"
     ]
    }
   ],
   "source": [
    "duplicate_values=data[data['is_duplicate']==0].value_counts()\n",
    "dissimilar_values=data[data['is_duplicate']!=0].value_counts()\n",
    "\n",
    "print(f'Duplicate question:{duplicate_values}\\nDissimilar Questions:{dissimilar_values}')"
   ]
  },
  {
   "cell_type": "code",
   "execution_count": 8,
   "metadata": {},
   "outputs": [
    {
     "data": {
      "text/plain": [
       "id     qid1   qid2   question1  question2  is_duplicate\n",
       "False  False  False  False      False      False           404348\n",
       "Name: count, dtype: int64"
      ]
     },
     "execution_count": 8,
     "metadata": {},
     "output_type": "execute_result"
    }
   ],
   "source": [
    "#Removing any rows with even a single null value.\n",
    "data=data.dropna(axis=0)  #axis:0 in pandas mean along the row.\n",
    "data.isnull().value_counts()"
   ]
  },
  {
   "cell_type": "code",
   "execution_count": 9,
   "metadata": {},
   "outputs": [
    {
     "data": {
      "text/plain": [
       "'hello what lovely morning'"
      ]
     },
     "execution_count": 9,
     "metadata": {},
     "output_type": "execute_result"
    }
   ],
   "source": [
    "def text_preprocessor(text):\n",
    "    lemmatizer=WordNetLemmatizer()\n",
    "    tokens=word_tokenize(text)\n",
    "    tokens=[word.lower() for word in tokens if word.isalpha() and len(word)>=2]\n",
    "    tokens=[lemmatizer.lemmatize(word) for word in tokens]\n",
    "\n",
    "    return ' '.join(tokens)\n",
    "\n",
    "#Checking the function.\n",
    "text_preprocessor(\"Hello what a lovely Morning!\")"
   ]
  },
  {
   "cell_type": "markdown",
   "metadata": {},
   "source": [
    "***Now we will apply the previous function in our question columns.***"
   ]
  },
  {
   "cell_type": "code",
   "execution_count": 10,
   "metadata": {},
   "outputs": [
    {
     "name": "stderr",
     "output_type": "stream",
     "text": [
      "/tmp/ipykernel_93030/1195766074.py:1: FutureWarning: DataFrame.applymap has been deprecated. Use DataFrame.map instead.\n",
      "  data[['question1', 'question2']] = data[['question1', 'question2']].applymap(text_preprocessor)\n"
     ]
    },
    {
     "data": {
      "text/html": [
       "<div>\n",
       "<style scoped>\n",
       "    .dataframe tbody tr th:only-of-type {\n",
       "        vertical-align: middle;\n",
       "    }\n",
       "\n",
       "    .dataframe tbody tr th {\n",
       "        vertical-align: top;\n",
       "    }\n",
       "\n",
       "    .dataframe thead th {\n",
       "        text-align: right;\n",
       "    }\n",
       "</style>\n",
       "<table border=\"1\" class=\"dataframe\">\n",
       "  <thead>\n",
       "    <tr style=\"text-align: right;\">\n",
       "      <th></th>\n",
       "      <th>id</th>\n",
       "      <th>qid1</th>\n",
       "      <th>qid2</th>\n",
       "      <th>question1</th>\n",
       "      <th>question2</th>\n",
       "      <th>is_duplicate</th>\n",
       "    </tr>\n",
       "  </thead>\n",
       "  <tbody>\n",
       "    <tr>\n",
       "      <th>0</th>\n",
       "      <td>0</td>\n",
       "      <td>1</td>\n",
       "      <td>2</td>\n",
       "      <td>what is the step by step guide to invest in sh...</td>\n",
       "      <td>what is the step by step guide to invest in sh...</td>\n",
       "      <td>0</td>\n",
       "    </tr>\n",
       "    <tr>\n",
       "      <th>1</th>\n",
       "      <td>1</td>\n",
       "      <td>3</td>\n",
       "      <td>4</td>\n",
       "      <td>what is the story of kohinoor diamond</td>\n",
       "      <td>what would happen if the indian government sto...</td>\n",
       "      <td>0</td>\n",
       "    </tr>\n",
       "    <tr>\n",
       "      <th>2</th>\n",
       "      <td>2</td>\n",
       "      <td>5</td>\n",
       "      <td>6</td>\n",
       "      <td>how can increase the speed of my internet conn...</td>\n",
       "      <td>how can internet speed be increased by hacking...</td>\n",
       "      <td>0</td>\n",
       "    </tr>\n",
       "    <tr>\n",
       "      <th>3</th>\n",
       "      <td>3</td>\n",
       "      <td>7</td>\n",
       "      <td>8</td>\n",
       "      <td>why am mentally very lonely how can solve it</td>\n",
       "      <td>find the remainder when math is divided by</td>\n",
       "      <td>0</td>\n",
       "    </tr>\n",
       "    <tr>\n",
       "      <th>4</th>\n",
       "      <td>4</td>\n",
       "      <td>9</td>\n",
       "      <td>10</td>\n",
       "      <td>which one dissolve in water quikly sugar salt ...</td>\n",
       "      <td>which fish would survive in salt water</td>\n",
       "      <td>0</td>\n",
       "    </tr>\n",
       "  </tbody>\n",
       "</table>\n",
       "</div>"
      ],
      "text/plain": [
       "   id  qid1  qid2                                          question1  \\\n",
       "0   0     1     2  what is the step by step guide to invest in sh...   \n",
       "1   1     3     4              what is the story of kohinoor diamond   \n",
       "2   2     5     6  how can increase the speed of my internet conn...   \n",
       "3   3     7     8       why am mentally very lonely how can solve it   \n",
       "4   4     9    10  which one dissolve in water quikly sugar salt ...   \n",
       "\n",
       "                                           question2  is_duplicate  \n",
       "0  what is the step by step guide to invest in sh...             0  \n",
       "1  what would happen if the indian government sto...             0  \n",
       "2  how can internet speed be increased by hacking...             0  \n",
       "3         find the remainder when math is divided by             0  \n",
       "4             which fish would survive in salt water             0  "
      ]
     },
     "execution_count": 10,
     "metadata": {},
     "output_type": "execute_result"
    }
   ],
   "source": [
    "data[['question1', 'question2']] = data[['question1', 'question2']].applymap(text_preprocessor)\n",
    "\n",
    "data.head()"
   ]
  },
  {
   "cell_type": "markdown",
   "metadata": {},
   "source": [
    "***Now we will extract features using TF-IDF.***"
   ]
  },
  {
   "cell_type": "code",
   "execution_count": 11,
   "metadata": {},
   "outputs": [
    {
     "name": "stdout",
     "output_type": "stream",
     "text": [
      "(808696,)\n",
      "Question1 column feature space shape:(404348, 68844)\n",
      "Question2 column feature space shape:(404348, 68844)\n"
     ]
    }
   ],
   "source": [
    "'''Since the vocab length of question1 and question2 column could be different so the to creating same length feature vector for all questions\n",
    "I created a stack of all the question and thereafter created the feature vector.After that sliced the qs1 and qs2 coulmns from this stacked column of features.'''\n",
    "#Here first we are creating the question stack.\n",
    "question_stack=pd.concat([data['question1'],data['question2']])\n",
    "print(question_stack.shape)\n",
    "\n",
    "#Here I am considering an unigram model.\n",
    "tf_vectorizor=TfidfVectorizer(ngram_range=(1,1))\n",
    "qs_vector=tf_vectorizor.fit_transform(question_stack)\n",
    "\n",
    "qs1_vector,qs2_vector=qs_vector[:data['question1'].shape[0]],qs_vector[data['question1'].shape[0]:]\n",
    "\n",
    "print(f'Question1 column feature space shape:{qs1_vector.shape}\\nQuestion2 column feature space shape:{qs2_vector.shape}')"
   ]
  },
  {
   "cell_type": "markdown",
   "metadata": {},
   "source": [
    "***Now we will be applying cosine similarity to measure the similarity of the questions.***"
   ]
  },
  {
   "cell_type": "code",
   "execution_count": 30,
   "metadata": {},
   "outputs": [
    {
     "name": "stdout",
     "output_type": "stream",
     "text": [
      "[array([[0.97621781]]), array([[0.58910645]]), array([[0.25586544]]), array([[0.]]), array([[0.25900889]])]\n"
     ]
    }
   ],
   "source": [
    "#Scikit-learn's cosine similarity returns similarity scores for each i th row of X matrix to all row of Y matrix.\n",
    "#That is why I'will iterate through each row and then perform similarity.\n",
    "similarity_score_ls=[]\n",
    "for i in range(qs1_vector.shape[0]):\n",
    "    similarity_score=cosine_similarity(qs1_vector[i],qs2_vector[i])\n",
    "    similarity_score_ls.append(similarity_score)\n",
    "print(similarity_score_ls[:5])    "
   ]
  },
  {
   "cell_type": "markdown",
   "metadata": {},
   "source": [
    "***Checking the accuracy.***"
   ]
  },
  {
   "cell_type": "code",
   "execution_count": 26,
   "metadata": {},
   "outputs": [
    {
     "name": "stdout",
     "output_type": "stream",
     "text": [
      "Predicted similarty matrix shape:(404348,)\n",
      "True Similarity matrix shape:(404348,)\n"
     ]
    }
   ],
   "source": [
    "similarity_score_arr=np.array(similarity_score_ls).reshape(-1)\n",
    "similarity_score_arr.shape\n",
    "similarity_score_arr[:5]\n",
    "\n",
    "true_label=np.array(data['is_duplicate'])\n",
    "\n",
    "print(f'Predicted similarty matrix shape:{similarity_score_arr.shape}\\nTrue Similarity matrix shape:{label.shape}')"
   ]
  },
  {
   "cell_type": "code",
   "execution_count": 28,
   "metadata": {},
   "outputs": [
    {
     "data": {
      "text/plain": [
       "array([0., 0., 0., 0., 0.])"
      ]
     },
     "execution_count": 28,
     "metadata": {},
     "output_type": "execute_result"
    }
   ],
   "source": [
    "#Changing the similarity score to 0 and 1 binary form.\n",
    "similarity_score_arr[similarity_score_arr<=0.5],similarity_score_arr[similarity_score_arr>0.5]=1,0\n",
    "\n",
    "similarity_score_arr[:5]"
   ]
  },
  {
   "cell_type": "code",
   "execution_count": 29,
   "metadata": {},
   "outputs": [
    {
     "name": "stdout",
     "output_type": "stream",
     "text": [
      "Accuracy using TF-IDF features is:0.6307487609682748\n"
     ]
    }
   ],
   "source": [
    "#Checking the accuracy.\n",
    "print(f\"Accuracy using TF-IDF features is:{accuracy_score(true_label,similarity_score_arr)}\")"
   ]
  }
 ],
 "metadata": {
  "kernelspec": {
   "display_name": "Python 3",
   "language": "python",
   "name": "python3"
  },
  "language_info": {
   "codemirror_mode": {
    "name": "ipython",
    "version": 3
   },
   "file_extension": ".py",
   "mimetype": "text/x-python",
   "name": "python",
   "nbconvert_exporter": "python",
   "pygments_lexer": "ipython3",
   "version": "3.10.12"
  }
 },
 "nbformat": 4,
 "nbformat_minor": 2
}
