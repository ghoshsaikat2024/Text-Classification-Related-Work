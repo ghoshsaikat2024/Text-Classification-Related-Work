{
 "cells": [
  {
   "cell_type": "code",
   "execution_count": 46,
   "metadata": {},
   "outputs": [
    {
     "name": "stderr",
     "output_type": "stream",
     "text": [
      "[nltk_data] Downloading package stopwords to\n",
      "[nltk_data]     C:\\Users\\saika\\AppData\\Roaming\\nltk_data...\n",
      "[nltk_data]   Package stopwords is already up-to-date!\n",
      "[nltk_data] Downloading package punkt to\n",
      "[nltk_data]     C:\\Users\\saika\\AppData\\Roaming\\nltk_data...\n",
      "[nltk_data]   Unzipping tokenizers\\punkt.zip.\n"
     ]
    },
    {
     "data": {
      "text/plain": [
       "True"
      ]
     },
     "execution_count": 46,
     "metadata": {},
     "output_type": "execute_result"
    }
   ],
   "source": [
    "import nltk\n",
    "import pandas as pd\n",
    "import numpy as np\n",
    "from nltk.corpus import stopwords\n",
    "from nltk.tokenize import word_tokenize\n",
    "from sklearn.feature_extraction.text import CountVectorizer, TfidfVectorizer\n",
    "from sklearn.model_selection import train_test_split\n",
    "from sklearn.linear_model import LogisticRegression\n",
    "from sklearn.metrics import accuracy_score, classification_report\n",
    "nltk.download('stopwords')\n",
    "nltk.download('punkt')"
   ]
  },
  {
   "cell_type": "code",
   "execution_count": 39,
   "metadata": {},
   "outputs": [
    {
     "name": "stderr",
     "output_type": "stream",
     "text": [
      "C:\\Users\\saika\\AppData\\Local\\Temp\\ipykernel_13096\\1666609791.py:2: ParserWarning: Falling back to the 'python' engine because the 'c' engine does not support regex separators (separators > 1 char and different from '\\s+' are interpreted as regex); you can avoid this warning by specifying engine='python'.\n",
      "  data = pd.read_csv(\"SMSSpamCollection\", sep=r'\\t',names=column_names)\n"
     ]
    },
    {
     "data": {
      "text/html": [
       "<div>\n",
       "<style scoped>\n",
       "    .dataframe tbody tr th:only-of-type {\n",
       "        vertical-align: middle;\n",
       "    }\n",
       "\n",
       "    .dataframe tbody tr th {\n",
       "        vertical-align: top;\n",
       "    }\n",
       "\n",
       "    .dataframe thead th {\n",
       "        text-align: right;\n",
       "    }\n",
       "</style>\n",
       "<table border=\"1\" class=\"dataframe\">\n",
       "  <thead>\n",
       "    <tr style=\"text-align: right;\">\n",
       "      <th></th>\n",
       "      <th>Label</th>\n",
       "      <th>Message</th>\n",
       "    </tr>\n",
       "  </thead>\n",
       "  <tbody>\n",
       "    <tr>\n",
       "      <th>0</th>\n",
       "      <td>ham</td>\n",
       "      <td>Go until jurong point, crazy.. Available only ...</td>\n",
       "    </tr>\n",
       "    <tr>\n",
       "      <th>1</th>\n",
       "      <td>ham</td>\n",
       "      <td>Ok lar... Joking wif u oni...</td>\n",
       "    </tr>\n",
       "    <tr>\n",
       "      <th>2</th>\n",
       "      <td>spam</td>\n",
       "      <td>Free entry in 2 a wkly comp to win FA Cup fina...</td>\n",
       "    </tr>\n",
       "    <tr>\n",
       "      <th>3</th>\n",
       "      <td>ham</td>\n",
       "      <td>U dun say so early hor... U c already then say...</td>\n",
       "    </tr>\n",
       "    <tr>\n",
       "      <th>4</th>\n",
       "      <td>ham</td>\n",
       "      <td>Nah I don't think he goes to usf, he lives aro...</td>\n",
       "    </tr>\n",
       "  </tbody>\n",
       "</table>\n",
       "</div>"
      ],
      "text/plain": [
       "  Label                                            Message\n",
       "0   ham  Go until jurong point, crazy.. Available only ...\n",
       "1   ham                      Ok lar... Joking wif u oni...\n",
       "2  spam  Free entry in 2 a wkly comp to win FA Cup fina...\n",
       "3   ham  U dun say so early hor... U c already then say...\n",
       "4   ham  Nah I don't think he goes to usf, he lives aro..."
      ]
     },
     "execution_count": 39,
     "metadata": {},
     "output_type": "execute_result"
    }
   ],
   "source": [
    "column_names=[\"Label\",\"Message\"]\n",
    "data = pd.read_csv(\"SMSSpamCollection\", sep=r'\\t',names=column_names)\n",
    "data.head()"
   ]
  },
  {
   "cell_type": "code",
   "execution_count": 34,
   "metadata": {},
   "outputs": [
    {
     "name": "stdout",
     "output_type": "stream",
     "text": [
      "['ham' 'spam']\n"
     ]
    }
   ],
   "source": [
    "unique_labels = data['Label'].unique()\n",
    "print(unique_labels)\n"
   ]
  },
  {
   "cell_type": "markdown",
   "metadata": {},
   "source": [
    "Changing the spam as 0 and not spam as 1."
   ]
  },
  {
   "cell_type": "code",
   "execution_count": 40,
   "metadata": {},
   "outputs": [
    {
     "name": "stdout",
     "output_type": "stream",
     "text": [
      "   Label                                            Message\n",
      "0      0  Go until jurong point, crazy.. Available only ...\n",
      "1      0                      Ok lar... Joking wif u oni...\n",
      "2      1  Free entry in 2 a wkly comp to win FA Cup fina...\n",
      "3      0  U dun say so early hor... U c already then say...\n",
      "4      0  Nah I don't think he goes to usf, he lives aro...\n",
      "Category wise count : Label\n",
      "0    4827\n",
      "1     747\n",
      "Name: count, dtype: int64\n"
     ]
    }
   ],
   "source": [
    "#Creating a mapping .\n",
    "mapping={\"ham\":0,\"spam\":1}\n",
    "\n",
    "data[\"Label\"]=data[\"Label\"].map(mapping)\n",
    "category_count=data[\"Label\"].value_counts()\n",
    "print(data.head())\n",
    "print(\"Category wise count :\",category_count)\n"
   ]
  },
  {
   "cell_type": "markdown",
   "metadata": {},
   "source": [
    "***Clearly the data is imbalanced.***"
   ]
  },
  {
   "cell_type": "code",
   "execution_count": 52,
   "metadata": {},
   "outputs": [],
   "source": [
    "#Creating a function to preprocess the text.\n",
    "def preprocess_text(text:str):\n",
    "    '''\n",
    "        This function takes the text as input then tokenizes the text .\n",
    "        Then for each word makes it into lowercase.\n",
    "        Then remove an stop words present in the list of tokens.\n",
    "        Atlast return into a string/text format.\n",
    "    '''\n",
    "    stop_words=set(stopwords.words(\"english\"))\n",
    "    tokens=word_tokenize(text)\n",
    "\n",
    "    #Removing any punctuation/numeric character based words.Here I'm using isalpha() str method for checking whether all the chars are alphabets or not.\n",
    "    tokens=[word for word in tokens if word.isalpha()]\n",
    "    #Converting into lowercase.\n",
    "    tokens=[word.lower() for word in tokens]\n",
    "    #Removing the stoptwords.\n",
    "    tokens=[word for word in tokens if word not in stop_words]\n",
    "\n",
    "    #The ' ' means that words int he text has spaces between them.\n",
    "    return ' '.join(tokens)   #Here using join to concatenate  the tokens to get a preprocessed sentence/text.Note:str(tokens) will not work here.\n",
    "    "
   ]
  },
  {
   "cell_type": "code",
   "execution_count": 54,
   "metadata": {},
   "outputs": [
    {
     "data": {
      "text/plain": [
       "'hello saikat anyway'"
      ]
     },
     "execution_count": 54,
     "metadata": {},
     "output_type": "execute_result"
    }
   ],
   "source": [
    "#Testing the function.\n",
    "preprocess_text(\"Hello! I'm Saikat. Who are you anyway\")"
   ]
  },
  {
   "cell_type": "code",
   "execution_count": 55,
   "metadata": {},
   "outputs": [
    {
     "data": {
      "text/html": [
       "<div>\n",
       "<style scoped>\n",
       "    .dataframe tbody tr th:only-of-type {\n",
       "        vertical-align: middle;\n",
       "    }\n",
       "\n",
       "    .dataframe tbody tr th {\n",
       "        vertical-align: top;\n",
       "    }\n",
       "\n",
       "    .dataframe thead th {\n",
       "        text-align: right;\n",
       "    }\n",
       "</style>\n",
       "<table border=\"1\" class=\"dataframe\">\n",
       "  <thead>\n",
       "    <tr style=\"text-align: right;\">\n",
       "      <th></th>\n",
       "      <th>Label</th>\n",
       "      <th>Message</th>\n",
       "      <th>processed_message</th>\n",
       "    </tr>\n",
       "  </thead>\n",
       "  <tbody>\n",
       "    <tr>\n",
       "      <th>0</th>\n",
       "      <td>0</td>\n",
       "      <td>Go until jurong point, crazy.. Available only ...</td>\n",
       "      <td>go jurong point crazy available bugis n great ...</td>\n",
       "    </tr>\n",
       "    <tr>\n",
       "      <th>1</th>\n",
       "      <td>0</td>\n",
       "      <td>Ok lar... Joking wif u oni...</td>\n",
       "      <td>ok lar joking wif u oni</td>\n",
       "    </tr>\n",
       "    <tr>\n",
       "      <th>2</th>\n",
       "      <td>1</td>\n",
       "      <td>Free entry in 2 a wkly comp to win FA Cup fina...</td>\n",
       "      <td>free entry wkly comp win fa cup final tkts may...</td>\n",
       "    </tr>\n",
       "    <tr>\n",
       "      <th>3</th>\n",
       "      <td>0</td>\n",
       "      <td>U dun say so early hor... U c already then say...</td>\n",
       "      <td>u dun say early hor u c already say</td>\n",
       "    </tr>\n",
       "    <tr>\n",
       "      <th>4</th>\n",
       "      <td>0</td>\n",
       "      <td>Nah I don't think he goes to usf, he lives aro...</td>\n",
       "      <td>nah think goes usf lives around though</td>\n",
       "    </tr>\n",
       "  </tbody>\n",
       "</table>\n",
       "</div>"
      ],
      "text/plain": [
       "   Label                                            Message  \\\n",
       "0      0  Go until jurong point, crazy.. Available only ...   \n",
       "1      0                      Ok lar... Joking wif u oni...   \n",
       "2      1  Free entry in 2 a wkly comp to win FA Cup fina...   \n",
       "3      0  U dun say so early hor... U c already then say...   \n",
       "4      0  Nah I don't think he goes to usf, he lives aro...   \n",
       "\n",
       "                                   processed_message  \n",
       "0  go jurong point crazy available bugis n great ...  \n",
       "1                            ok lar joking wif u oni  \n",
       "2  free entry wkly comp win fa cup final tkts may...  \n",
       "3                u dun say early hor u c already say  \n",
       "4             nah think goes usf lives around though  "
      ]
     },
     "execution_count": 55,
     "metadata": {},
     "output_type": "execute_result"
    }
   ],
   "source": [
    "#Applying the preprocessing on the Message column of the dataset using the apply method.\n",
    "data['processed_message']=data[\"Message\"].apply(preprocess_text)\n",
    "data.head()"
   ]
  },
  {
   "cell_type": "markdown",
   "metadata": {},
   "source": [
    "***Here we are creating feature vector using unigram model.***"
   ]
  },
  {
   "cell_type": "code",
   "execution_count": 56,
   "metadata": {},
   "outputs": [
    {
     "name": "stdout",
     "output_type": "stream",
     "text": [
      "Bag of words vector shape:(5574, 7197)\n",
      " TF-IDF vector shape:(5574, 7197)\n"
     ]
    }
   ],
   "source": [
    "#Bag of Words Vector conversion.\n",
    "bow_vectorizer=CountVectorizer()\n",
    "X_bow=bow_vectorizer.fit_transform(data[\"processed_message\"])\n",
    "\n",
    "#TF-IDF\n",
    "tf_vectorizer=TfidfVectorizer()\n",
    "X_tf=tf_vectorizer.fit_transform(data[\"processed_message\"])\n",
    "\n",
    "Y=data[\"Label\"]\n",
    "\n",
    "print(f\"Bag of words vector shape:{X_bow.shape}\\n TF-IDF vector shape:{X_tf.shape}\")"
   ]
  },
  {
   "cell_type": "code",
   "execution_count": 58,
   "metadata": {},
   "outputs": [],
   "source": [
    "#Train test split for vectors created using bag of words\n",
    "X_bow_train,X_bow_test,Y_train,Y_test=train_test_split(X_bow,Y,test_size=0.25,random_state=42)\n",
    "#Train test split for vector/features created using TF_IDF\n",
    "X_tf_train,X_tf_test,Y_train,Y_test=train_test_split(X_tf,Y,test_size=0.25,random_state=42)"
   ]
  },
  {
   "cell_type": "markdown",
   "metadata": {},
   "source": [
    "Classifying the text using Logistic Regression."
   ]
  },
  {
   "cell_type": "code",
   "execution_count": 59,
   "metadata": {},
   "outputs": [
    {
     "name": "stdout",
     "output_type": "stream",
     "text": [
      "Bag of Words Accuracy: 0.9791965566714491\n",
      "              precision    recall  f1-score   support\n",
      "\n",
      "           0       0.98      0.99      0.99      1203\n",
      "           1       0.95      0.90      0.92       191\n",
      "\n",
      "    accuracy                           0.98      1394\n",
      "   macro avg       0.96      0.95      0.96      1394\n",
      "weighted avg       0.98      0.98      0.98      1394\n",
      "\n",
      "TF-IDF accuracy is: 0.975609756097561\n",
      "              precision    recall  f1-score   support\n",
      "\n",
      "           0       0.99      0.99      0.99      1203\n",
      "           1       0.91      0.91      0.91       191\n",
      "\n",
      "    accuracy                           0.98      1394\n",
      "   macro avg       0.95      0.95      0.95      1394\n",
      "weighted avg       0.98      0.98      0.98      1394\n",
      "\n"
     ]
    }
   ],
   "source": [
    "#Fitting on extracted feature using bag of words.\n",
    "#Note:Here since class imbalance exists so we set class weight to balanced,so that the algo can give more importance to minority class automatically.For more info check scikit-learn docs.\n",
    "clf_bow_log=LogisticRegression(class_weight=\"balanced\") \n",
    "clf_bow_log.fit(X_bow_train,Y_train)\n",
    "y_pred_bow=clf_bow_log.predict(X_bow_test)\n",
    "print(\"Bag of Words Accuracy:\",accuracy_score(Y_test,y_pred_bow))\n",
    "print(classification_report(Y_test,y_pred_bow))\n",
    "\n",
    "#Fitting on TF-IDF extracted feature.\n",
    "clf_tf_log=LogisticRegression(class_weight=\"balanced\")\n",
    "clf_tf_log.fit(X_tf_train,Y_train)\n",
    "y_pred_tf=clf_tf_log.predict(X_tf_test)\n",
    "print(\"TF-IDF accuracy is:\",accuracy_score(Y_test,y_pred_tf))\n",
    "print(classification_report(Y_test,y_pred_tf))"
   ]
  },
  {
   "cell_type": "markdown",
   "metadata": {},
   "source": [
    "***Applying SVM with by default rbf kernel.***"
   ]
  },
  {
   "cell_type": "code",
   "execution_count": 61,
   "metadata": {},
   "outputs": [],
   "source": [
    "from sklearn.svm import SVC"
   ]
  },
  {
   "cell_type": "code",
   "execution_count": 62,
   "metadata": {},
   "outputs": [
    {
     "name": "stdout",
     "output_type": "stream",
     "text": [
      "Bag of Words Accuracy: 0.9741750358680057\n",
      "              precision    recall  f1-score   support\n",
      "\n",
      "           0       0.97      1.00      0.99      1203\n",
      "           1       0.97      0.84      0.90       191\n",
      "\n",
      "    accuracy                           0.97      1394\n",
      "   macro avg       0.97      0.92      0.94      1394\n",
      "weighted avg       0.97      0.97      0.97      1394\n",
      "\n",
      "TF-IDF accuracy is: 0.9763271162123386\n",
      "              precision    recall  f1-score   support\n",
      "\n",
      "           0       0.98      1.00      0.99      1203\n",
      "           1       0.98      0.85      0.91       191\n",
      "\n",
      "    accuracy                           0.98      1394\n",
      "   macro avg       0.98      0.92      0.95      1394\n",
      "weighted avg       0.98      0.98      0.98      1394\n",
      "\n"
     ]
    }
   ],
   "source": [
    "clf_bow_svm=SVC(class_weight=\"balanced\")\n",
    "clf_bow_svm.fit(X_bow_train,Y_train)\n",
    "y_pred_bow=clf_bow_svm.predict(X_bow_test)\n",
    "print(\"Bag of Words Accuracy:\",accuracy_score(Y_test,y_pred_bow))\n",
    "print(classification_report(Y_test,y_pred_bow))\n",
    "\n",
    "#Fitting on TF-IDF extracted feature.\n",
    "clf_tf_svm=SVC(class_weight=\"balanced\")\n",
    "clf_tf_svm.fit(X_tf_train,Y_train)\n",
    "y_pred_tf=clf_tf_svm.predict(X_tf_test)\n",
    "print(\"TF-IDF accuracy is:\",accuracy_score(Y_test,y_pred_tf))\n",
    "print(classification_report(Y_test,y_pred_tf))"
   ]
  },
  {
   "cell_type": "markdown",
   "metadata": {},
   "source": [
    "***Though the data is imbalanced but still the f1 score is pretty good so I've not used any data imbalancing techniques here.***"
   ]
  }
 ],
 "metadata": {
  "kernelspec": {
   "display_name": "Python 3",
   "language": "python",
   "name": "python3"
  },
  "language_info": {
   "codemirror_mode": {
    "name": "ipython",
    "version": 3
   },
   "file_extension": ".py",
   "mimetype": "text/x-python",
   "name": "python",
   "nbconvert_exporter": "python",
   "pygments_lexer": "ipython3",
   "version": "3.12.3"
  }
 },
 "nbformat": 4,
 "nbformat_minor": 2
}
